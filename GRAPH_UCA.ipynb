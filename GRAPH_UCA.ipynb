{
 "cells": [
  {
   "cell_type": "markdown",
   "metadata": {},
   "source": [
    "# <center>Graph UCA</center>"
   ]
  },
  {
   "cell_type": "markdown",
   "metadata": {},
   "source": [
    "![title](Images/graph.png)"
   ]
  },
  {
   "cell_type": "code",
   "execution_count": 4,
   "metadata": {},
   "outputs": [],
   "source": [
    "from py2neo import authenticate, Graph, Node, Relationship"
   ]
  },
  {
   "cell_type": "code",
   "execution_count": 5,
   "metadata": {},
   "outputs": [],
   "source": [
    "authenticate(\"localhost:7474\", \"neo4j\", \"ayoubneo4j\")\n",
    "graph = Graph()"
   ]
  },
  {
   "cell_type": "code",
   "execution_count": 6,
   "metadata": {},
   "outputs": [],
   "source": [
    "cypher=graph.cypher"
   ]
  },
  {
   "cell_type": "code",
   "execution_count": 7,
   "metadata": {},
   "outputs": [],
   "source": [
    "graph.delete_all()"
   ]
  },
  {
   "cell_type": "code",
   "execution_count": 8,
   "metadata": {},
   "outputs": [
    {
     "data": {
      "text/plain": []
     },
     "execution_count": 8,
     "metadata": {},
     "output_type": "execute_result"
    }
   ],
   "source": [
    "cypher.execute(\"create(presidence:Presidence{Nom:'UCA',Classement:1,Effectif:70000,Email:'ucacom@uca.com',Tel:'0524437741',Fax:'0524434494'})\")"
   ]
  },
  {
   "cell_type": "code",
   "execution_count": 9,
   "metadata": {},
   "outputs": [
    {
     "data": {
      "text/plain": []
     },
     "execution_count": 9,
     "metadata": {},
     "output_type": "execute_result"
    }
   ],
   "source": [
    "cypher.execute(\"create(v:Ville{Nom:'Marrakech',Cordonnee_Nord:'31.635620,-7.992399',Code_Postal:40160}),(b:Ville{Nom:'Safi',Cordonnee_Nord:'32.301482,-9.228105',Code_Postal:46010}),(c:Ville{Nom:'Essaouira',Cordonnee_Nord:'31.508746,-9.760654',Code_Postal:44236}),(d:Ville{Nom:'El kelaa des sraghna',Cordonnee_Nord:'32.055611,-7.401436',Code_Postal:43000})\")"
   ]
  },
  {
   "cell_type": "code",
   "execution_count": 10,
   "metadata": {},
   "outputs": [
    {
     "data": {
      "text/plain": []
     },
     "execution_count": 10,
     "metadata": {},
     "output_type": "execute_result"
    }
   ],
   "source": [
    "cypher.execute(\"create(fssm:Etablissement{Nom:'FSSM',adresse:'Bd.Prince My Abdellah,B.P.2390,40000 Marrakech',Email:'fssm@uca.ma',Tel:'0524434649',Site:'https://www.uca.ma/site/fssm'})\")"
   ]
  },
  {
   "cell_type": "code",
   "execution_count": 11,
   "metadata": {},
   "outputs": [
    {
     "data": {
      "text/plain": []
     },
     "execution_count": 11,
     "metadata": {},
     "output_type": "execute_result"
    }
   ],
   "source": [
    "cypher.execute(\"create(fst:Etablissement{Nom:'FSTG',adresse:'Bd. Abdelkrim El Khattabi , B.P. 618 Guéliz, 40000',Email:'k.mahrou@uca.ma',Tel:'0524433163',Site:'https://www.uca.ma/site/fstgm'})\")"
   ]
  },
  {
   "cell_type": "code",
   "execution_count": 12,
   "metadata": {},
   "outputs": [
    {
     "data": {
      "text/plain": []
     },
     "execution_count": 12,
     "metadata": {},
     "output_type": "execute_result"
    }
   ],
   "source": [
    "cypher.execute(\"create(fst:Etablissement{Nom:'FSTG',adresse:'Bd. Abdelkrim El Khattabi , B.P. 618 Guéliz, 40000',Email:'k.mahrou@uca.ma',Tel:'0524433163',Site:'https://www.uca.ma/site/fstgm'})\")"
   ]
  },
  {
   "cell_type": "code",
   "execution_count": 13,
   "metadata": {},
   "outputs": [
    {
     "data": {
      "text/plain": []
     },
     "execution_count": 13,
     "metadata": {},
     "output_type": "execute_result"
    }
   ],
   "source": [
    "cypher.execute(\"create(fsjes:Etablissement{Nom:'FSJES',adresse:'Daoudiate B.P. 2380, 40000 Marrakech ',Email:'contact@uca.ma ',Tel:'0524303032',Site:'https://www.uca.ma/site/fsjes'})\")"
   ]
  },
  {
   "cell_type": "code",
   "execution_count": 14,
   "metadata": {},
   "outputs": [
    {
     "data": {
      "text/plain": []
     },
     "execution_count": 14,
     "metadata": {},
     "output_type": "execute_result"
    }
   ],
   "source": [
    "cypher.execute(\"create(encg:Etablissement{Nom:'ENCG',adresse:'Av. Allal El Fassi BP 3748 Amerchich – Marrakech  ',Email:'contact@uca.ma ',Tel:'0524304692',Site:'https://www.uca.ma/site/encg'})\")"
   ]
  },
  {
   "cell_type": "code",
   "execution_count": 15,
   "metadata": {},
   "outputs": [
    {
     "data": {
      "text/plain": []
     },
     "execution_count": 15,
     "metadata": {},
     "output_type": "execute_result"
    }
   ],
   "source": [
    "cypher.execute(\"create(fmpm:Etablissement{Nom:'FMPM',adresse:'Sidi Abbad, B.P. 7010, Marrakech 40000',Email:'fmpmcontact@uca.ma  ',Tel:'0524339899 ',Site:'https://www.uca.ma/site/fmpm'})\")"
   ]
  },
  {
   "cell_type": "code",
   "execution_count": 16,
   "metadata": {},
   "outputs": [
    {
     "data": {
      "text/plain": []
     },
     "execution_count": 16,
     "metadata": {},
     "output_type": "execute_result"
    }
   ],
   "source": [
    "cypher.execute(\"create(flsh:Etablissement{Nom:'FLSH',adresse:'Quartier Amerchich, B.P. 3737, 40000 ',Email:'contact@uca.ma',Tel:'0524302742 ',Site:'https://www.uca.ma/site/flshm'})\")"
   ]
  },
  {
   "cell_type": "code",
   "execution_count": 17,
   "metadata": {},
   "outputs": [
    {
     "data": {
      "text/plain": []
     },
     "execution_count": 17,
     "metadata": {},
     "output_type": "execute_result"
    }
   ],
   "source": [
    "cypher.execute(\"create(ens:Etablissement{Nom:'ENS',adresse:'BP 2400 Hay Hassani Route essaouira 40000 ',Email:'contact@uca.ma',Tel:'0524340125',Site:'https://www.uca.ma/site/ens'})\")"
   ]
  },
  {
   "cell_type": "code",
   "execution_count": 18,
   "metadata": {},
   "outputs": [
    {
     "data": {
      "text/plain": []
     },
     "execution_count": 18,
     "metadata": {},
     "output_type": "execute_result"
    }
   ],
   "source": [
    "cypher.execute(\"create(fps:Etablissement{Nom:'FPS',adresse:'Sidi Bouzid, B.P. 4162, 46000 SAFI - MAROC ',Email:'fpsdecanat@uca.ma ',Tel:'0524669357',Site:'https://www.uca.ma/site/fps'})\")"
   ]
  },
  {
   "cell_type": "code",
   "execution_count": 19,
   "metadata": {},
   "outputs": [
    {
     "data": {
      "text/plain": []
     },
     "execution_count": 19,
     "metadata": {},
     "output_type": "execute_result"
    }
   ],
   "source": [
    "cypher.execute(\"create(ensam:Etablissement{Nom:'ENSAM',adresse:'Bd. Abdelkrim El Khattabi, B.P. 575 Guéliz, 40000 ',Email:'contact@uca.ma  ',Tel:'0524434745',Site:'https://www.uca.ma/site/ensam'})\")"
   ]
  },
  {
   "cell_type": "code",
   "execution_count": 20,
   "metadata": {},
   "outputs": [
    {
     "data": {
      "text/plain": []
     },
     "execution_count": 20,
     "metadata": {},
     "output_type": "execute_result"
    }
   ],
   "source": [
    "cypher.execute(\"create(ensas:Etablissement{Nom:'ENSAS',adresse:'Route Sidi Bouzid BP 63, 46000 ',Email:'contact@uca.ma',Tel:'0524669155 ',Site:'https://www.uca.ma/site/ensas'})\")"
   ]
  },
  {
   "cell_type": "code",
   "execution_count": 21,
   "metadata": {},
   "outputs": [
    {
     "data": {
      "text/plain": []
     },
     "execution_count": 21,
     "metadata": {},
     "output_type": "execute_result"
    }
   ],
   "source": [
    "cypher.execute(\"create(ests:Etablissement{Nom:'ESTS',adresse:'Route Dar Si Aïssa, B.P. 89, 46000  ',Email:'contact@uca.ma',Tel:'0524625053',Site:'https://www.uca.ma/site/ests'})\")"
   ]
  },
  {
   "cell_type": "code",
   "execution_count": 22,
   "metadata": {},
   "outputs": [
    {
     "data": {
      "text/plain": []
     },
     "execution_count": 22,
     "metadata": {},
     "output_type": "execute_result"
    }
   ],
   "source": [
    "cypher.execute(\"create(este:Etablissement{Nom:'ESTE',adresse:'Km 9, Route Agadir, Essaouira Aljadida, BP. 383',Email:'contact@uca.ma ',Tel:'0524792064 ',Site:'https://www.uca.ma/site/este'})\")"
   ]
  },
  {
   "cell_type": "code",
   "execution_count": 23,
   "metadata": {},
   "outputs": [
    {
     "data": {
      "text/plain": []
     },
     "execution_count": 23,
     "metadata": {},
     "output_type": "execute_result"
    }
   ],
   "source": [
    "cypher.execute(\"create(cuks:Etablissement{Nom:'CUKS',adresse:'Bureau de Poste -Centre Ville, BP 263, Avenue Mohammed V ',Email:'contact@uca.ma  ',Tel:'0524414498',Site:'https://www.uca.ma/site/cuks'})\")"
   ]
  },
  {
   "cell_type": "code",
   "execution_count": 24,
   "metadata": {},
   "outputs": [
    {
     "data": {
      "text/plain": []
     },
     "execution_count": 24,
     "metadata": {},
     "output_type": "execute_result"
    }
   ],
   "source": [
    "cypher.execute(\"create(flam:Etablissement{Nom:'FLAM',adresse:'Avenue Allal Fassi. B.P 1483 Marrakech ',Email:'contact.flam@uca.ma',Tel:'0524303647',Site:'https://www.uca.ma/site/flam'})\")"
   ]
  },
  {
   "cell_type": "code",
   "execution_count": 25,
   "metadata": {},
   "outputs": [
    {
     "data": {
      "text/plain": [
       "   | e                              | b                          | c                           \n",
       "---+--------------------------------+----------------------------+------------------------------\n",
       " 1 | (n209:Faculte {Nom:\"Faculte\"}) | (n210:Ecole {Nom:\"Ecole\"}) | (n211:Centre {Nom:\"Centre\"})"
      ]
     },
     "execution_count": 25,
     "metadata": {},
     "output_type": "execute_result"
    }
   ],
   "source": [
    "cypher.execute(\"create(e:Faculte{Nom:'Faculte'}),(b:Ecole{Nom:'Ecole'}),(c:Centre{Nom:'Centre'}) return e,b,c\")"
   ]
  },
  {
   "cell_type": "code",
   "execution_count": 26,
   "metadata": {},
   "outputs": [],
   "source": [
    "fac = ['FSSM','FSJES','FMPM','FLSH','FSTG','FPS','FLAM']\n",
    "ecole = ['ENCG','ENSAM','ENS','ENSAS','ESTS','ESTE']\n",
    "centre = ['CUKS']\n",
    "for i in fac:\n",
    "    cypher.execute(\"MATCH (a:Etablissement),(b:Faculte) WHERE a.Nom = '\"+str(i)+\"' AND b.Nom = 'Faculte' CREATE (a)-[r:de_type]->(b) RETURN r;\")\n",
    "for i in ecole:\n",
    "    cypher.execute(\"MATCH (a:Etablissement),(b:Ecole) WHERE a.Nom = '\"+str(i)+\"' AND b.Nom = 'Ecole' CREATE (a)-[r:de_type]->(b) RETURN r;\")\n",
    "for i in centre:\n",
    "    cypher.execute(\"MATCH (a:Etablissement),(b:Centre) WHERE a.Nom = '\"+str(i)+\"' AND b.Nom = 'Centre' CREATE (a)-[r:de_type]->(b) RETURN r;\")"
   ]
  },
  {
   "cell_type": "code",
   "execution_count": 27,
   "metadata": {},
   "outputs": [],
   "source": [
    "etablissement = ['Faculte','Ecole','Centre']\n",
    "for i in etablissement:\n",
    "    cypher.execute(\"MATCH (a:\"+str(i)+\"),(b:Presidence) WHERE a.Nom = '\"+str(i)+\"' AND b.Nom = 'UCA' CREATE (a)-[r:inclus_dans]->(b) RETURN r;\")"
   ]
  },
  {
   "cell_type": "code",
   "execution_count": 28,
   "metadata": {},
   "outputs": [],
   "source": [
    "list_kech = ['FSSM','FSJES','FMPM','FLSH','FSTG','FLAM','ENCG','ENSAM','ENS']\n",
    "list_safi = ['FPS','ENSAS','ESTS']\n",
    "list_essaouira = ['ESTE']\n",
    "list_kalaa = ['CUKS']\n",
    "for i in list_kech:\n",
    "    cypher.execute(\"MATCH (a:Etablissement),(b:Ville) WHERE a.Nom = '\"+str(i)+\"' AND b.Nom = 'Marrakech' CREATE (a)-[r:a]->(b) RETURN r;\")\n",
    "for i in list_safi:\n",
    "    cypher.execute(\"MATCH (a:Etablissement),(b:Ville) WHERE a.Nom = '\"+str(i)+\"' AND b.Nom = 'Safi' CREATE (a)-[r:a]->(b) RETURN r;\")\n",
    "for i in list_essaouira:\n",
    "    cypher.execute(\"MATCH (a:Etablissement),(b:Ville) WHERE a.Nom = '\"+str(i)+\"' AND b.Nom = 'Essaouira' CREATE (a)-[r:a]->(b) RETURN r;\")\n",
    "for i in list_kalaa:\n",
    "    cypher.execute(\"MATCH (a:Etablissement),(b:Ville) WHERE a.Nom = '\"+str(i)+\"' AND b.Nom = 'El kelaa des sraghna' CREATE (a)-[r:a]->(b) RETURN r;\")"
   ]
  },
  {
   "cell_type": "code",
   "execution_count": 29,
   "metadata": {},
   "outputs": [
    {
     "data": {
      "text/plain": [
       "   | r                                                                                                                                                                                                            \n",
       "---+---------------------------------------------------------------------------------------------------------------------------------------------------------------------------------------------------------------\n",
       " 1 | (:Presidence {Classement:1,Effectif:70000,Email:\"ucacom@uca.com\",Fax:\"0524434494\",Nom:\"UCA\",Tel:\"0524437741\"})-[r293:dans]->(:Ville {Code_Postal:40160,Cordonnee_Nord:\"31.635620,-7.992399\",Nom:\"Marrakech\"})"
      ]
     },
     "execution_count": 29,
     "metadata": {},
     "output_type": "execute_result"
    }
   ],
   "source": [
    "cypher.execute(\"MATCH (a:Presidence),(b:Ville) WHERE a.Nom = 'UCA' AND b.Nom = 'Marrakech' CREATE (a)-[r:dans]->(b) RETURN r;\")"
   ]
  },
  {
   "cell_type": "code",
   "execution_count": 30,
   "metadata": {},
   "outputs": [],
   "source": [
    "liste_departements_fssm = ['Biologie','Chimie','Géologie','Informatique','Mathématiques']\n",
    "for i in liste_departements_fssm:\n",
    "    cypher.execute(\"create(d:Departement{Nom:'\"+str(i)+\"'})\")\n",
    "liste_departements_fsjes = ['Sciences de gestion','Sciences economiques','Droit public','Droit privé']\n",
    "for i in liste_departements_fsjes:\n",
    "    cypher.execute(\"create(d:Departement{Nom:'\"+str(i)+\"'})\")\n",
    "liste_departements_encg = ['Managment','Commerce et communication','Gestion']\n",
    "for i in liste_departements_encg:\n",
    "    cypher.execute(\"create(d:Departement{Nom:'\"+str(i)+\"'})\")\n",
    "liste_departements_flsh = ['Langue et litterature arabes','Langue et litterature françaises','Langue et litterature anglaises','Histoire','Geographie','Etudes islamiques','Philosophie','Sociologie']\n",
    "for i in liste_departements_flsh:\n",
    "    cypher.execute(\"create(d:Departement{Nom:'\"+str(i)+\"'})\")\n",
    "liste_filieres_ensam = ['Génie Informatique','Enseignements Généraux et Techniques','Génie Industriel et Logistique','Systèmes Electroniques Embarqués et Commande des Systèmes']\n",
    "for i in liste_filieres_ensam:\n",
    "    cypher.execute(\"create(f:Filiere{Nom:'\"+str(i)+\"'})\")    \n",
    "liste_departements_ens = ['Physique']    \n",
    "for i in liste_departements_ens:\n",
    "    cypher.execute(\"create(d:Departement{Nom:'\"+str(i)+\"'})\")\n",
    "liste_departements_fps = ['Sciences Mathématiques et Informatiques','Droit Arabe','Sciences Humaines, Arts et Littératures','Sciences Economiques et Gestion','Géographie','Sciences de la vie','Sciences de la matière chimie','Sciences de la matière physique','Etudes française']\n",
    "for i in liste_departements_fps:\n",
    "    cypher.execute(\"create(d:Departement{Nom:'\"+str(i)+\"'})\")\n",
    "liste_filieres_ests = ['Genie Informatique','Techniques de Managment','Genie Industriel et Maintenance','Techniques Instrumentals & Managment-qualité','Mécatronique','Metiers de informatique','Gestion Comptable et Financière','Métrologie Qualité, Sécurité et Environnement']\n",
    "for i in liste_filieres_ests:\n",
    "    cypher.execute(\"create(f:Filiere{Nom:'\"+str(i)+\"'})\")\n",
    "liste_filieres_este = ['Techniques de Management','Gestion des Organisations et des Destinations Touristiques',' Ingénierie des Systèmes Informatiques et Logiciels','Management du Tourisme','Energies Renouvelables','Génie Informatique , option Génie Logiciel et réseaux']\n",
    "for i in liste_filieres_este:\n",
    "    cypher.execute(\"create(f:Filiere{Nom:'\"+str(i)+\"'})\")\n",
    "    \n",
    "#FMPM, FSTG, ENSA SAFI, FLAM, CUKS\n",
    "    "
   ]
  },
  {
   "cell_type": "code",
   "execution_count": 31,
   "metadata": {},
   "outputs": [],
   "source": [
    "liste_departements_fssm = ['Biologie','Chimie','Géologie','Informatique','Mathématiques','Physique']\n",
    "for i in liste_departements_fssm:\n",
    "    cypher.execute(\"MATCH (a:Departement),(b:Etablissement) WHERE a.Nom = '\"+str(i)+\"' AND b.Nom = 'FSSM' CREATE (a)-[r:au_sein_de]->(b) RETURN r;\")\n",
    "liste_departements_fsjes = ['Sciences de gestion','Sciences economiques','Droit public','Droit privé']\n",
    "for i in liste_departements_fsjes:\n",
    "    cypher.execute(\"MATCH (a:Departement),(b:Etablissement) WHERE a.Nom = '\"+str(i)+\"' AND b.Nom = 'FSJES' CREATE (a)-[r:au_sein_de]->(b) RETURN r;\")\n",
    "liste_departements_encg = ['Managment','Commerce et communication','Gestion']\n",
    "for i in liste_departements_encg:\n",
    "    cypher.execute(\"MATCH (a:Departement),(b:Etablissement) WHERE a.Nom = '\"+str(i)+\"' AND b.Nom = 'ENCG' CREATE (a)-[r:au_sein_de]->(b) RETURN r;\")\n",
    "liste_departements_flsh = ['Langue et litterature arabes','Langue et litterature françaises','Langue et litterature anglaises','Histoire','Geographie','Etudes islamiques','Philosophie','Sociologie']\n",
    "for i in liste_departements_flsh:\n",
    "    cypher.execute(\"MATCH (a:Departement),(b:Etablissement) WHERE a.Nom = '\"+str(i)+\"' AND b.Nom = 'FLSH' CREATE (a)-[r:au_sein_de]->(b) RETURN r;\")\n",
    "liste_filieres_ensam = ['Génie Informatique','Enseignements Généraux et Techniques','Génie Industriel et Logistique','Systèmes Electroniques Embarqués et Commande des Systèmes']\n",
    "for i in liste_filieres_ensam:\n",
    "    cypher.execute(\"MATCH (a:Filiere),(b:Etablissement) WHERE a.Nom = '\"+str(i)+\"' AND b.Nom = 'ENSAM' CREATE (a)-[r:au_sein_de]->(b) RETURN r;\")\n",
    "liste_departements_ens = ['Informatique','Biologie','Physique','Mathématiques']    \n",
    "for i in liste_departements_ens:\n",
    "    cypher.execute(\"MATCH (a:Departement),(b:Etablissement) WHERE a.Nom = '\"+str(i)+\"' AND b.Nom = 'ENS' CREATE (a)-[r:au_sein_de]->(b) RETURN r;\")\n",
    "liste_departements_fps = ['Sciences Mathématiques et Informatiques','Droit Arabe','Géologie','Sciences Humaines, Arts et Littératures','Sciences Economiques et Gestion','Géographie','Sciences de la vie','Sciences de la matière chimie','Sciences de la matière physique','Etudes française']\n",
    "for i in liste_departements_fps:\n",
    "    cypher.execute(\"MATCH (a:Departement),(b:Etablissement) WHERE a.Nom = '\"+str(i)+\"' AND b.Nom = 'FPS' CREATE (a)-[r:au_sein_de]->(b) RETURN r;\")\n",
    "liste_filieres_ests = ['Genie Informatique','Techniques de Managment','Genie Industriel et Maintenance','Techniques Instrumentals & Managment-qualité','Mécatronique','Metiers de informatique','Gestion Comptable et Financière','Métrologie Qualité, Sécurité et Environnement']\n",
    "for i in liste_filieres_ests:\n",
    "    cypher.execute(\"MATCH (a:Filiere),(b:Etablissement) WHERE a.Nom = '\"+str(i)+\"' AND b.Nom = 'ESTS' CREATE (a)-[r:au_sein_de]->(b) RETURN r;\")\n",
    "liste_filieres_este = ['Techniques de Management','Gestion des Organisations et des Destinations Touristiques',' Ingénierie des Systèmes Informatiques et Logiciels','Management du Tourisme','Energies Renouvelables','Génie Informatique , option Génie Logiciel et réseaux']\n",
    "for i in liste_filieres_este:\n",
    "    cypher.execute(\"MATCH (a:Filiere),(b:Etablissement) WHERE a.Nom = '\"+str(i)+\"' AND b.Nom = 'ESTE' CREATE (a)-[r:au_sein_de]->(b) RETURN r;\")\n",
    "for i in liste_departements_fssm:\n",
    "    cypher.execute(\"MATCH (a:Departement),(b:Etablissement) WHERE a.Nom = '\"+str(i)+\"' AND b.Nom = 'FSTG' CREATE (a)-[r:au_sein_de]->(b) RETURN r;\")"
   ]
  },
  {
   "cell_type": "code",
   "execution_count": 32,
   "metadata": {},
   "outputs": [],
   "source": [
    "liste_filieres_departement_informatique = ['Data Science','Ingénierie des Systèmes d’information','Sciences Mathématiques et Informatique','Réseaux Sécurité et Systèmes informatiques','Technologies et Programmation Web']\n",
    "for i in liste_filieres_departement_informatique:\n",
    "    cypher.execute(\"create(f:Filiere{Nom:'\"+str(i)+\"'})\")"
   ]
  },
  {
   "cell_type": "code",
   "execution_count": 33,
   "metadata": {},
   "outputs": [],
   "source": [
    "liste_filieres_departement_informatique = ['Data Science','Ingénierie des Systèmes d’information','Sciences Mathématiques et Informatique','Réseaux Sécurité et Systèmes informatiques','Technologies et Programmation Web']\n",
    "for i in liste_filieres_departement_informatique:\n",
    "    cypher.execute(\"MATCH (a:Filiere),(b:Departement),(c:Etablissement) WHERE a.Nom = '\"+str(i)+\"' AND b.Nom = 'Informatique' AND c.Nom = 'FSSM' CREATE (a)-[r:au_sein_de]->(b) RETURN r;\")"
   ]
  },
  {
   "cell_type": "code",
   "execution_count": 34,
   "metadata": {},
   "outputs": [
    {
     "data": {
      "text/plain": []
     },
     "execution_count": 34,
     "metadata": {},
     "output_type": "execute_result"
    }
   ],
   "source": [
    "liste_etudiants_data_science = ['AIT DAOUD Ghizlane','AMROUANE Mohamed','BARIK Anas','BASTA Mohammed','BOUHAMIDI Abderrahim','BOUJLAL Marouane','BOUZAIDI Latifa','DAKOUAN Abdelkrim','EL ATRACH Mohammed','EL IDRISSI MOUBTASSIM Nezar','EL-HAFED Naima','EL KATIBI Ayoub','ESDAIRI Mohamed','ESSADIK Ibtissam','FETHALLAH Ayoub','JAOUIRI Younes','LAMDAHBIN Meryem','LMARBOUH Mhamed','MAAMAR Safa','MAJHADI Khadija','MGHAZLI Wajih','MOUFRADI Fadwa','NAKIB Mohamed Mahdi','OUKAJA Youssef Mehdi','SALIM Abdeslam','SAOUDI Chaymae','TAMMOUCH Ilyas','ZAIM Doha']\n",
    "for i in liste_etudiants_data_science:\n",
    "    cypher.execute(\"create(f:Etudiant{Nom:'\"+str(i)+\"'})\")\n",
    "cypher.execute(\"create(c:Coordinateur{Nom:'MOUSANNIF Hajar'})\")"
   ]
  },
  {
   "cell_type": "code",
   "execution_count": 35,
   "metadata": {},
   "outputs": [
    {
     "data": {
      "text/plain": [
       "   | r                                                                                               \n",
       "---+--------------------------------------------------------------------------------------------------\n",
       " 1 | (:Coordinateur {Nom:\"MOUSANNIF Hajar\"})-[r480:coordinatrice_de]->(:Filiere {Nom:\"Data Science\"})"
      ]
     },
     "execution_count": 35,
     "metadata": {},
     "output_type": "execute_result"
    }
   ],
   "source": [
    "liste_etudiants_data_science = ['AIT DAOUD Ghizlane','AMROUANE Mohamed','BARIK Anas','BASTA Mohammed','BOUHAMIDI Abderrahim','BOUJLAL Marouane','BOUZAIDI Latifa','DAKOUAN Abdelkrim','EL ATRACH Mohammed','EL IDRISSI MOUBTASSIM Nezar','EL-HAFED Naima','EL KATIBI Ayoub','ESDAIRI Mohamed','ESSADIK Ibtissam','FETHALLAH Ayoub','JAOUIRI Younes','LAMDAHBIN Meryem','LMARBOUH Mhamed','MAAMAR Safa','MAJHADI Khadija','MGHAZLI Wajih','MOUFRADI Fadwa','NAKIB Mohamed Mahdi','OUKAJA Youssef Mehdi','SALIM Abdeslam','SAOUDI Chaymae','TAMMOUCH Ilyas','ZAIM Doha']\n",
    "for i in liste_etudiants_data_science:\n",
    "    cypher.execute(\"MATCH (a:Etudiant),(b:Filiere) WHERE a.Nom = '\"+str(i)+\"' AND b.Nom = 'Data Science' CREATE (a)-[r:etudiant_a]->(b) RETURN r;\")\n",
    "cypher.execute(\"MATCH (a:Coordinateur),(b:Filiere) WHERE a.Nom = 'MOUSANNIF Hajar' AND b.Nom = 'Data Science' CREATE (a)-[r:coordinatrice_de]->(b) RETURN r;\")"
   ]
  }
 ],
 "metadata": {
  "kernelspec": {
   "display_name": "Python 3",
   "language": "python",
   "name": "python3"
  },
  "language_info": {
   "codemirror_mode": {
    "name": "ipython",
    "version": 3
   },
   "file_extension": ".py",
   "mimetype": "text/x-python",
   "name": "python",
   "nbconvert_exporter": "python",
   "pygments_lexer": "ipython3",
   "version": "3.6.5"
  }
 },
 "nbformat": 4,
 "nbformat_minor": 2
}
