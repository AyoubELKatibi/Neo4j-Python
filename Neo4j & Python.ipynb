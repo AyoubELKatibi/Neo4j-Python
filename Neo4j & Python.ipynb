{
 "cells": [
  {
   "cell_type": "markdown",
   "metadata": {
    "slideshow": {
     "slide_type": "slide"
    }
   },
   "source": [
    " # <center>Neo4j & Python</center>"
   ]
  },
  {
   "cell_type": "code",
   "execution_count": 3,
   "metadata": {
    "slideshow": {
     "slide_type": "skip"
    }
   },
   "outputs": [],
   "source": [
    "graph.delete_all()"
   ]
  },
  {
   "cell_type": "markdown",
   "metadata": {
    "slideshow": {
     "slide_type": "slide"
    }
   },
   "source": [
    "## Téléchargez Neo4j"
   ]
  },
  {
   "cell_type": "markdown",
   "metadata": {
    "slideshow": {
     "slide_type": "fragment"
    }
   },
   "source": [
    "### https://neo4j.com/"
   ]
  },
  {
   "cell_type": "markdown",
   "metadata": {
    "slideshow": {
     "slide_type": "slide"
    }
   },
   "source": [
    "![title](Images/n1_bis.png)"
   ]
  },
  {
   "cell_type": "markdown",
   "metadata": {
    "slideshow": {
     "slide_type": "slide"
    }
   },
   "source": [
    "![title](Images/n2_bis.png)"
   ]
  },
  {
   "cell_type": "markdown",
   "metadata": {
    "slideshow": {
     "slide_type": "slide"
    }
   },
   "source": [
    "![title](Images/n3_bis.png)"
   ]
  },
  {
   "cell_type": "markdown",
   "metadata": {
    "slideshow": {
     "slide_type": "slide"
    }
   },
   "source": [
    "## Pour utiliser Neo4j il faut utiliser les commandes suivantes : "
   ]
  },
  {
   "cell_type": "markdown",
   "metadata": {
    "slideshow": {
     "slide_type": "fragment"
    }
   },
   "source": [
    "tar -xf neo4j-community-3.4.9-unix.tar.gz"
   ]
  },
  {
   "cell_type": "markdown",
   "metadata": {
    "slideshow": {
     "slide_type": "fragment"
    }
   },
   "source": [
    "cd neo4j-community-3.4.9/"
   ]
  },
  {
   "cell_type": "markdown",
   "metadata": {
    "slideshow": {
     "slide_type": "fragment"
    }
   },
   "source": [
    "~/neo4j-community-3.4.9$ "
   ]
  },
  {
   "cell_type": "markdown",
   "metadata": {
    "slideshow": {
     "slide_type": "fragment"
    }
   },
   "source": [
    "~/neo4j-community-3.4.9$ ./bin/neo4j console"
   ]
  },
  {
   "cell_type": "markdown",
   "metadata": {
    "slideshow": {
     "slide_type": "slide"
    }
   },
   "source": [
    "![title](Images/n4.png)"
   ]
  },
  {
   "cell_type": "markdown",
   "metadata": {
    "slideshow": {
     "slide_type": "slide"
    }
   },
   "source": [
    "## Lancer Neo4j dans un navigateur en utilisant  : "
   ]
  },
  {
   "cell_type": "markdown",
   "metadata": {
    "slideshow": {
     "slide_type": "fragment"
    }
   },
   "source": [
    "### http://localhost:7474/"
   ]
  },
  {
   "cell_type": "markdown",
   "metadata": {
    "slideshow": {
     "slide_type": "slide"
    }
   },
   "source": [
    "# Pour obtenir py2neo, il faut taper :\n",
    "\n",
    "## pip install py2neo"
   ]
  },
  {
   "cell_type": "markdown",
   "metadata": {
    "slideshow": {
     "slide_type": "skip"
    }
   },
   "source": [
    "# Pour obtenir py2neo, il faut taper :\n",
    "## pip uninstall py2neo\n",
    "## ppip install py2neo==2.0.8"
   ]
  },
  {
   "cell_type": "markdown",
   "metadata": {
    "slideshow": {
     "slide_type": "slide"
    }
   },
   "source": [
    "## On commence par la création du graph"
   ]
  },
  {
   "cell_type": "code",
   "execution_count": 5,
   "metadata": {
    "slideshow": {
     "slide_type": "fragment"
    }
   },
   "outputs": [],
   "source": [
    "from py2neo import authenticate, Graph\n",
    "authenticate(\"localhost:7474\", \"neo4j\", \"ayoubneo4j\")\n",
    "graph = Graph(\"http://localhost:7474/db/data/\")\n"
   ]
  },
  {
   "cell_type": "code",
   "execution_count": 6,
   "metadata": {
    "slideshow": {
     "slide_type": "fragment"
    }
   },
   "outputs": [],
   "source": [
    "from py2neo import Graph\n",
    "graph = Graph()"
   ]
  },
  {
   "cell_type": "markdown",
   "metadata": {
    "slideshow": {
     "slide_type": "slide"
    }
   },
   "source": [
    "## On passe à la création du premier noeud"
   ]
  },
  {
   "cell_type": "code",
   "execution_count": 8,
   "metadata": {
    "slideshow": {
     "slide_type": "fragment"
    }
   },
   "outputs": [
    {
     "data": {
      "text/plain": [
       "(<Node graph='http://localhost:7474/db/data/' ref='node/0' labels={'Person'} properties={'First_name': 'Ayoub', 'Last_name': 'EL KATIBI'}>,)"
      ]
     },
     "execution_count": 8,
     "metadata": {},
     "output_type": "execute_result"
    }
   ],
   "source": [
    "from py2neo import Node\n",
    "ayoub = Node(\"Person\", First_name=\"Ayoub\", Last_name=\"EL KATIBI\")\n",
    "graph.create(ayoub)"
   ]
  },
  {
   "cell_type": "markdown",
   "metadata": {
    "slideshow": {
     "slide_type": "slide"
    }
   },
   "source": [
    "## On ajoute autres noeuds"
   ]
  },
  {
   "cell_type": "code",
   "execution_count": 9,
   "metadata": {
    "slideshow": {
     "slide_type": "fragment"
    }
   },
   "outputs": [
    {
     "data": {
      "text/plain": [
       "(<Node graph='http://localhost:7474/db/data/' ref='node/133' labels={'Person'} properties={'First_name': 'Abdelkrim', 'Last_name': 'DAKOUAN'}>,)"
      ]
     },
     "execution_count": 9,
     "metadata": {},
     "output_type": "execute_result"
    }
   ],
   "source": [
    "ibtissam = Node(\"Person\", First_name=\"Ibtissam\", Last_name=\"ESSADIK\")\n",
    "abdelkrim = Node(\"Person\", First_name=\"Abdelkrim\", Last_name=\"DAKOUAN\")\n",
    "graph.create(ibtissam)\n",
    "graph.create(abdelkrim)"
   ]
  },
  {
   "cell_type": "markdown",
   "metadata": {
    "slideshow": {
     "slide_type": "slide"
    }
   },
   "source": [
    "## Création de relations entre les noeuds"
   ]
  },
  {
   "cell_type": "code",
   "execution_count": 10,
   "metadata": {
    "slideshow": {
     "slide_type": "fragment"
    }
   },
   "outputs": [
    {
     "data": {
      "text/plain": [
       "(<Relationship graph='http://localhost:7474/db/data/' ref='relationship/13' start='node/0' end='node/111' type='ami de' properties={}>,)"
      ]
     },
     "execution_count": 10,
     "metadata": {},
     "output_type": "execute_result"
    }
   ],
   "source": [
    "from py2neo import Relationship\n",
    "\n",
    "graph.create(Relationship(ibtissam, \"amie de\", abdelkrim))\n",
    "graph.create(Relationship(abdelkrim, \"ami de\", ayoub))\n",
    "graph.create(Relationship(ayoub, \"ami de\", ibtissam))"
   ]
  },
  {
   "cell_type": "markdown",
   "metadata": {
    "slideshow": {
     "slide_type": "slide"
    }
   },
   "source": [
    "## Visualisation des noeuds"
   ]
  },
  {
   "cell_type": "code",
   "execution_count": 11,
   "metadata": {
    "slideshow": {
     "slide_type": "fragment"
    }
   },
   "outputs": [
    {
     "data": {
      "text/plain": [
       "   | n                                                         \n",
       "---+------------------------------------------------------------\n",
       " 1 | (n0:Person {First_name:\"Ayoub\",Last_name:\"EL KATIBI\"})    \n",
       " 2 | (n111:Person {First_name:\"Ibtissam\",Last_name:\"ESSADIK\"}) \n",
       " 3 | (n133:Person {First_name:\"Abdelkrim\",Last_name:\"DAKOUAN\"})"
      ]
     },
     "execution_count": 11,
     "metadata": {},
     "output_type": "execute_result"
    }
   ],
   "source": [
    "graph.cypher.execute(\"MATCH (n) RETURN n\")"
   ]
  },
  {
   "cell_type": "markdown",
   "metadata": {
    "slideshow": {
     "slide_type": "slide"
    }
   },
   "source": [
    "## Visualisation de toutes les relations entre les noeuds"
   ]
  },
  {
   "cell_type": "code",
   "execution_count": 12,
   "metadata": {
    "slideshow": {
     "slide_type": "fragment"
    }
   },
   "outputs": [
    {
     "data": {
      "text/plain": [
       "   | p                                                                                                                         \n",
       "---+----------------------------------------------------------------------------------------------------------------------------\n",
       " 1 | (:Person {First_name:\"Abdelkrim\",Last_name:\"DAKOUAN\"})-[:`ami de`]->(:Person {First_name:\"Ayoub\",Last_name:\"EL KATIBI\"})  \n",
       " 2 | (:Person {First_name:\"Ayoub\",Last_name:\"EL KATIBI\"})-[:`ami de`]->(:Person {First_name:\"Ibtissam\",Last_name:\"ESSADIK\"})   \n",
       " 3 | (:Person {First_name:\"Ibtissam\",Last_name:\"ESSADIK\"})-[:`amie de`]->(:Person {First_name:\"Abdelkrim\",Last_name:\"DAKOUAN\"})"
      ]
     },
     "execution_count": 12,
     "metadata": {},
     "output_type": "execute_result"
    }
   ],
   "source": [
    "graph.cypher.execute(\"MATCH p=()-->() RETURN p\")"
   ]
  },
  {
   "cell_type": "markdown",
   "metadata": {
    "slideshow": {
     "slide_type": "slide"
    }
   },
   "source": [
    "## Visualisation de quelques attributs des noeuds "
   ]
  },
  {
   "cell_type": "code",
   "execution_count": 13,
   "metadata": {
    "slideshow": {
     "slide_type": "fragment"
    }
   },
   "outputs": [
    {
     "data": {
      "text/plain": [
       "   | n.First_name | n.Last_name\n",
       "---+--------------+-------------\n",
       " 1 | Ayoub        | EL KATIBI  \n",
       " 2 | Ibtissam     | ESSADIK    \n",
       " 3 | Abdelkrim    | DAKOUAN    "
      ]
     },
     "execution_count": 13,
     "metadata": {},
     "output_type": "execute_result"
    }
   ],
   "source": [
    "graph.cypher.execute(\"MATCH (n:Person) RETURN n.First_name, n.Last_name\")\n"
   ]
  },
  {
   "cell_type": "markdown",
   "metadata": {
    "slideshow": {
     "slide_type": "slide"
    }
   },
   "source": [
    "## Création d'un noeud avec deux labels"
   ]
  },
  {
   "cell_type": "code",
   "execution_count": 15,
   "metadata": {
    "slideshow": {
     "slide_type": "fragment"
    }
   },
   "outputs": [
    {
     "name": "stdout",
     "output_type": "stream",
     "text": [
      "(:Fruit:`Légume` {couleur:\"vert\",savoureux:true})\n"
     ]
    }
   ],
   "source": [
    "avocat = Node(\"Fruit\", \"Légume\", couleur=\"vert\", savoureux=True)\n",
    "print(avocat)"
   ]
  },
  {
   "cell_type": "code",
   "execution_count": 16,
   "metadata": {
    "slideshow": {
     "slide_type": "fragment"
    }
   },
   "outputs": [
    {
     "data": {
      "text/plain": [
       "(<Relationship graph='http://localhost:7474/db/data/' ref='relationship/22' start='node/133' end='node/134' type='aime' properties={}>,)"
      ]
     },
     "execution_count": 16,
     "metadata": {},
     "output_type": "execute_result"
    }
   ],
   "source": [
    "graph.create(Relationship(abdelkrim, \"aime\", avocat))"
   ]
  },
  {
   "cell_type": "code",
   "execution_count": 17,
   "metadata": {
    "slideshow": {
     "slide_type": "fragment"
    }
   },
   "outputs": [
    {
     "data": {
      "text/plain": [
       "   | p                                                                                                                         \n",
       "---+----------------------------------------------------------------------------------------------------------------------------\n",
       " 1 | (:Person {First_name:\"Abdelkrim\",Last_name:\"DAKOUAN\"})-[:`ami de`]->(:Person {First_name:\"Ayoub\",Last_name:\"EL KATIBI\"})  \n",
       " 2 | (:Person {First_name:\"Ayoub\",Last_name:\"EL KATIBI\"})-[:`ami de`]->(:Person {First_name:\"Ibtissam\",Last_name:\"ESSADIK\"})   \n",
       " 3 | (:Person {First_name:\"Ibtissam\",Last_name:\"ESSADIK\"})-[:`amie de`]->(:Person {First_name:\"Abdelkrim\",Last_name:\"DAKOUAN\"})\n",
       " 4 | (:Person {First_name:\"Abdelkrim\",Last_name:\"DAKOUAN\"})-[:aime]->(:Fruit:`Légume` {couleur:\"vert\",savoureux:true})         "
      ]
     },
     "execution_count": 17,
     "metadata": {},
     "output_type": "execute_result"
    }
   ],
   "source": [
    "graph.cypher.execute(\"MATCH p=()-->() RETURN p\")"
   ]
  },
  {
   "cell_type": "markdown",
   "metadata": {
    "slideshow": {
     "slide_type": "slide"
    }
   },
   "source": [
    "## Affichage de quelques propriétés d'un noeud"
   ]
  },
  {
   "cell_type": "code",
   "execution_count": 18,
   "metadata": {
    "slideshow": {
     "slide_type": "fragment"
    }
   },
   "outputs": [
    {
     "data": {
      "text/plain": [
       "'EL KATIBI'"
      ]
     },
     "execution_count": 18,
     "metadata": {},
     "output_type": "execute_result"
    }
   ],
   "source": [
    "ayoub.properties[\"Last_name\"]"
   ]
  },
  {
   "cell_type": "code",
   "execution_count": 19,
   "metadata": {
    "slideshow": {
     "slide_type": "fragment"
    }
   },
   "outputs": [
    {
     "data": {
      "text/plain": [
       "'Ibtissam'"
      ]
     },
     "execution_count": 19,
     "metadata": {},
     "output_type": "execute_result"
    }
   ],
   "source": [
    "ibtissam.properties[\"First_name\"]"
   ]
  },
  {
   "cell_type": "code",
   "execution_count": 20,
   "metadata": {
    "slideshow": {
     "slide_type": "fragment"
    }
   },
   "outputs": [
    {
     "data": {
      "text/plain": [
       "'DAKOUAN'"
      ]
     },
     "execution_count": 20,
     "metadata": {},
     "output_type": "execute_result"
    }
   ],
   "source": [
    "abdelkrim.properties[\"Last_name\"]"
   ]
  },
  {
   "cell_type": "code",
   "execution_count": 21,
   "metadata": {
    "slideshow": {
     "slide_type": "fragment"
    }
   },
   "outputs": [
    {
     "data": {
      "text/plain": [
       "'vert'"
      ]
     },
     "execution_count": 21,
     "metadata": {},
     "output_type": "execute_result"
    }
   ],
   "source": [
    "avocat.properties[\"couleur\"]"
   ]
  },
  {
   "cell_type": "code",
   "execution_count": 22,
   "metadata": {
    "slideshow": {
     "slide_type": "fragment"
    }
   },
   "outputs": [
    {
     "data": {
      "text/plain": [
       "True"
      ]
     },
     "execution_count": 22,
     "metadata": {},
     "output_type": "execute_result"
    }
   ],
   "source": [
    "avocat.properties[\"savoureux\"]"
   ]
  },
  {
   "cell_type": "markdown",
   "metadata": {
    "slideshow": {
     "slide_type": "slide"
    }
   },
   "source": [
    "## Affichage des labels"
   ]
  },
  {
   "cell_type": "code",
   "execution_count": 23,
   "metadata": {
    "slideshow": {
     "slide_type": "fragment"
    }
   },
   "outputs": [
    {
     "data": {
      "text/plain": [
       "{'Person'}"
      ]
     },
     "execution_count": 23,
     "metadata": {},
     "output_type": "execute_result"
    }
   ],
   "source": [
    "ayoub.labels"
   ]
  },
  {
   "cell_type": "code",
   "execution_count": 24,
   "metadata": {
    "slideshow": {
     "slide_type": "fragment"
    }
   },
   "outputs": [
    {
     "data": {
      "text/plain": [
       "{'Fruit', 'Légume'}"
      ]
     },
     "execution_count": 24,
     "metadata": {},
     "output_type": "execute_result"
    }
   ],
   "source": [
    "avocat.labels"
   ]
  },
  {
   "cell_type": "markdown",
   "metadata": {
    "slideshow": {
     "slide_type": "slide"
    }
   },
   "source": [
    "## L'ajout des labels et des attributs à des noeuds existants "
   ]
  },
  {
   "cell_type": "code",
   "execution_count": 25,
   "metadata": {
    "slideshow": {
     "slide_type": "fragment"
    }
   },
   "outputs": [],
   "source": [
    "ayoub.labels.add(\"Study\")"
   ]
  },
  {
   "cell_type": "code",
   "execution_count": 26,
   "metadata": {
    "slideshow": {
     "slide_type": "fragment"
    }
   },
   "outputs": [],
   "source": [
    "ayoub.properties[\"Level\"] = \"M2\""
   ]
  },
  {
   "cell_type": "code",
   "execution_count": 27,
   "metadata": {
    "slideshow": {
     "slide_type": "fragment"
    }
   },
   "outputs": [
    {
     "data": {
      "text/plain": [
       "   | n                                                                      \n",
       "---+-------------------------------------------------------------------------\n",
       " 1 | (n0:Person:Study {First_name:\"Ayoub\",Last_name:\"EL KATIBI\",Level:\"M2\"})\n",
       " 2 | (n111:Person {First_name:\"Ibtissam\",Last_name:\"ESSADIK\"})              \n",
       " 3 | (n133:Person {First_name:\"Abdelkrim\",Last_name:\"DAKOUAN\"})             \n",
       " 4 | (n134:Fruit:`Légume` {couleur:\"vert\",savoureux:true})                  "
      ]
     },
     "execution_count": 27,
     "metadata": {},
     "output_type": "execute_result"
    }
   ],
   "source": [
    "graph.cypher.execute(\"MATCH (n) RETURN n\")"
   ]
  },
  {
   "cell_type": "markdown",
   "metadata": {
    "slideshow": {
     "slide_type": "slide"
    }
   },
   "source": [
    "## Utilisation de la fonction match"
   ]
  },
  {
   "cell_type": "code",
   "execution_count": 29,
   "metadata": {
    "slideshow": {
     "slide_type": "fragment"
    }
   },
   "outputs": [
    {
     "name": "stdout",
     "output_type": "stream",
     "text": [
      "(n0:Person:Study {First_name:\"Ayoub\",Last_name:\"EL KATIBI\",Level:\"M2\"}) (n111:Person {First_name:\"Ibtissam\",Last_name:\"ESSADIK\"})\n",
      "(n111:Person {First_name:\"Ibtissam\",Last_name:\"ESSADIK\"}) (n133:Person {First_name:\"Abdelkrim\",Last_name:\"DAKOUAN\"})\n",
      "(n133:Person {First_name:\"Abdelkrim\",Last_name:\"DAKOUAN\"}) (n0:Person:Study {First_name:\"Ayoub\",Last_name:\"EL KATIBI\",Level:\"M2\"})\n"
     ]
    }
   ],
   "source": [
    "for rel in graph.match(start_node=None, rel_type=None):\n",
    "    if rel.end_node.properties[\"First_name\"] !=None:\n",
    "        print(str(rel.start_node)+' '+str(rel.end_node))"
   ]
  },
  {
   "cell_type": "markdown",
   "metadata": {
    "slideshow": {
     "slide_type": "slide"
    }
   },
   "source": [
    "## Comment afficher les noeuds qui ont comme relation entre eux \"ami de\"?"
   ]
  },
  {
   "cell_type": "code",
   "execution_count": 81,
   "metadata": {
    "slideshow": {
     "slide_type": "skip"
    }
   },
   "outputs": [
    {
     "name": "stdout",
     "output_type": "stream",
     "text": [
      "(n45:Person:Study {First_name:\"Ayoub\",Last_name:\"EL KATIBI\",Level:\"M2\"}) (n74:Person {First_name:\"Ibtissam\",Last_name:\"ESSADIK\"})\n",
      "(n75:Person {First_name:\"Abdelkrim\",Last_name:\"DAKOUAN\"}) (n45:Person:Study {First_name:\"Ayoub\",Last_name:\"EL KATIBI\",Level:\"M2\"})\n"
     ]
    }
   ],
   "source": [
    "for rel in graph.match(start_node=None, rel_type=\"ami de\"):\n",
    "    if rel.end_node.properties[\"First_name\"] !=None:\n",
    "        print(str(rel.start_node)+' '+str(rel.end_node))"
   ]
  },
  {
   "cell_type": "markdown",
   "metadata": {
    "slideshow": {
     "slide_type": "slide"
    }
   },
   "source": [
    "## Comment afficher la propriété \"First_name\"  des noeuds de flux entrant ?"
   ]
  },
  {
   "cell_type": "code",
   "execution_count": 83,
   "metadata": {
    "slideshow": {
     "slide_type": "skip"
    }
   },
   "outputs": [
    {
     "name": "stdout",
     "output_type": "stream",
     "text": [
      "Ayoub\n",
      "Abdelkrim\n"
     ]
    }
   ],
   "source": [
    "for rel in graph.match(start_node=None, rel_type=\"ami de\"):\n",
    "    if rel.end_node.properties[\"First_name\"] !=None:\n",
    "        print(str(rel.start_node.properties[\"First_name\"]))"
   ]
  },
  {
   "cell_type": "markdown",
   "metadata": {
    "slideshow": {
     "slide_type": "slide"
    }
   },
   "source": [
    " # <center>Les requêtes Cypher</center>"
   ]
  },
  {
   "cell_type": "markdown",
   "metadata": {
    "slideshow": {
     "slide_type": "slide"
    }
   },
   "source": [
    "## On commence par le nettoyage de notre base de données"
   ]
  },
  {
   "cell_type": "code",
   "execution_count": 30,
   "metadata": {
    "slideshow": {
     "slide_type": "fragment"
    }
   },
   "outputs": [],
   "source": [
    "graph.delete_all()"
   ]
  },
  {
   "cell_type": "markdown",
   "metadata": {
    "slideshow": {
     "slide_type": "slide"
    }
   },
   "source": [
    "## On crée notre noeud avec un label Person"
   ]
  },
  {
   "cell_type": "code",
   "execution_count": 31,
   "metadata": {
    "slideshow": {
     "slide_type": "fragment"
    }
   },
   "outputs": [
    {
     "data": {
      "text/plain": [
       "   | a                                                                                             \n",
       "---+------------------------------------------------------------------------------------------------\n",
       " 1 | (n0:Person:Study {First_name:\"Ayoub\",Last_name:\"EL KATIBI\",Level:\"M2\",Name:\"Ayoub EL KATIBI\"})"
      ]
     },
     "execution_count": 31,
     "metadata": {},
     "output_type": "execute_result"
    }
   ],
   "source": [
    "cypher = graph.cypher\n",
    "cypher.execute(\"CREATE (a:Person { Name : 'Ayoub EL KATIBI' }) return a\")"
   ]
  },
  {
   "cell_type": "markdown",
   "metadata": {
    "slideshow": {
     "slide_type": "slide"
    }
   },
   "source": [
    "## On crée deux noeuds à la fois"
   ]
  },
  {
   "cell_type": "code",
   "execution_count": 32,
   "metadata": {
    "slideshow": {
     "slide_type": "fragment"
    }
   },
   "outputs": [
    {
     "data": {
      "text/plain": [
       "   | a                                       | b                                       \n",
       "---+-----------------------------------------+------------------------------------------\n",
       " 1 | (n170:Person {Name:\"Ibtissam ESSADIK\"}) | (n171:Person {Name:\"Abdelkrim DAKOUAN\"})"
      ]
     },
     "execution_count": 32,
     "metadata": {},
     "output_type": "execute_result"
    }
   ],
   "source": [
    "cypher.execute(\"CREATE (a:Person { Name: 'Ibtissam ESSADIK'}), (b:Person { Name: 'Abdelkrim DAKOUAN'}) RETURN a,b\")"
   ]
  },
  {
   "cell_type": "code",
   "execution_count": 33,
   "metadata": {
    "slideshow": {
     "slide_type": "fragment"
    }
   },
   "outputs": [
    {
     "data": {
      "text/plain": [
       "   | a                                   | b                          \n",
       "---+-------------------------------------+-----------------------------\n",
       " 1 | (n112:Master {Name:\"Data Science\"}) | (n113:Licence {Name:\"SMI\"})"
      ]
     },
     "execution_count": 33,
     "metadata": {},
     "output_type": "execute_result"
    }
   ],
   "source": [
    "cypher.execute(\"CREATE (a:Master { Name: 'Data Science'}) CREATE (b:Licence { Name: 'SMI'}) RETURN a,b\")"
   ]
  },
  {
   "cell_type": "markdown",
   "metadata": {
    "slideshow": {
     "slide_type": "slide"
    }
   },
   "source": [
    "## Création de relations entre les noeuds"
   ]
  },
  {
   "cell_type": "code",
   "execution_count": 34,
   "metadata": {
    "slideshow": {
     "slide_type": "fragment"
    }
   },
   "outputs": [
    {
     "data": {
      "text/plain": [
       "   | r                                                                                                                                             \n",
       "---+------------------------------------------------------------------------------------------------------------------------------------------------\n",
       " 1 | (:Person:Study {First_name:\"Ayoub\",Last_name:\"EL KATIBI\",Level:\"M2\",Name:\"Ayoub EL KATIBI\"})-[r0:ami_de]->(:Person {Name:\"Abdelkrim DAKOUAN\"})"
      ]
     },
     "execution_count": 34,
     "metadata": {},
     "output_type": "execute_result"
    }
   ],
   "source": [
    "cypher.execute(\"MATCH (a:Person),(b:Person) WHERE a.Name = 'Ayoub EL KATIBI' AND b.Name = 'Abdelkrim DAKOUAN' CREATE (a)-[r:ami_de]->(b) RETURN r\")"
   ]
  },
  {
   "cell_type": "markdown",
   "metadata": {
    "slideshow": {
     "slide_type": "slide"
    }
   },
   "source": [
    "## Ajout d'autres relations entre les noeuds"
   ]
  },
  {
   "cell_type": "code",
   "execution_count": 35,
   "metadata": {
    "slideshow": {
     "slide_type": "fragment"
    }
   },
   "outputs": [
    {
     "data": {
      "text/plain": [
       "   | r                                                                                      \n",
       "---+-----------------------------------------------------------------------------------------\n",
       " 1 | (:Person {Name:\"Ibtissam ESSADIK\"})-[r14:amie_de]->(:Person {Name:\"Abdelkrim DAKOUAN\"})"
      ]
     },
     "execution_count": 35,
     "metadata": {},
     "output_type": "execute_result"
    }
   ],
   "source": [
    "cypher.execute(\"MATCH (a:Person),(b:Person) WHERE a.Name = 'Ibtissam ESSADIK' AND b.Name = 'Abdelkrim DAKOUAN' CREATE (a)-[r:amie_de]->(b) RETURN r\")"
   ]
  },
  {
   "cell_type": "code",
   "execution_count": 36,
   "metadata": {
    "slideshow": {
     "slide_type": "fragment"
    }
   },
   "outputs": [
    {
     "data": {
      "text/plain": [
       "   | r                                                                                                                                             \n",
       "---+------------------------------------------------------------------------------------------------------------------------------------------------\n",
       " 1 | (:Person:Study {First_name:\"Ayoub\",Last_name:\"EL KATIBI\",Level:\"M2\",Name:\"Ayoub EL KATIBI\"})-[r96:ami_de]->(:Person {Name:\"Ibtissam ESSADIK\"})"
      ]
     },
     "execution_count": 36,
     "metadata": {},
     "output_type": "execute_result"
    }
   ],
   "source": [
    "cypher.execute(\"MATCH (a:Person),(b:Person) WHERE a.Name = 'Ayoub EL KATIBI' AND b.Name = 'Ibtissam ESSADIK' CREATE (a)-[r:ami_de]->(b) RETURN r\")"
   ]
  },
  {
   "cell_type": "code",
   "execution_count": 37,
   "metadata": {
    "slideshow": {
     "slide_type": "fragment"
    }
   },
   "outputs": [
    {
     "data": {
      "text/plain": [
       "   | r                                                                                                                                              \n",
       "---+-------------------------------------------------------------------------------------------------------------------------------------------------\n",
       " 1 | (:Person:Study {First_name:\"Ayoub\",Last_name:\"EL KATIBI\",Level:\"M2\",Name:\"Ayoub EL KATIBI\"})-[r116:etudiant_a]->(:Master {Name:\"Data Science\"})"
      ]
     },
     "execution_count": 37,
     "metadata": {},
     "output_type": "execute_result"
    }
   ],
   "source": [
    "cypher.execute(\"MATCH (a:Person),(b:Master) WHERE a.Name = 'Ayoub EL KATIBI' AND b.Name = 'Data Science' CREATE (a)-[r:etudiant_a]->(b) RETURN r\")"
   ]
  },
  {
   "cell_type": "code",
   "execution_count": 38,
   "metadata": {
    "slideshow": {
     "slide_type": "slide"
    }
   },
   "outputs": [
    {
     "data": {
      "text/plain": [
       "   | r                                                                                                                                           \n",
       "---+----------------------------------------------------------------------------------------------------------------------------------------------\n",
       " 1 | (:Person:Study {First_name:\"Ayoub\",Last_name:\"EL KATIBI\",Level:\"M2\",Name:\"Ayoub EL KATIBI\"})-[r136:ancien_etudiant]->(:Licence {Name:\"SMI\"})"
      ]
     },
     "execution_count": 38,
     "metadata": {},
     "output_type": "execute_result"
    }
   ],
   "source": [
    "cypher.execute(\"MATCH (a:Person),(b:Licence) WHERE a.Name = 'Ayoub EL KATIBI' AND b.Name = 'SMI' CREATE (a)-[r:ancien_etudiant]->(b) RETURN r\")"
   ]
  },
  {
   "cell_type": "code",
   "execution_count": 39,
   "metadata": {
    "slideshow": {
     "slide_type": "fragment"
    }
   },
   "outputs": [
    {
     "data": {
      "text/plain": [
       "   | r                                                                                                                                                                    \n",
       "---+-----------------------------------------------------------------------------------------------------------------------------------------------------------------------\n",
       " 1 | (:Person:Study {First_name:\"Ayoub\",Last_name:\"EL KATIBI\",Level:\"M2\",Name:\"Ayoub EL KATIBI\"})-[r13:etudiante_a]->(:Person {First_name:\"Ibtissam\",Last_name:\"ESSADIK\"})"
      ]
     },
     "execution_count": 39,
     "metadata": {},
     "output_type": "execute_result"
    }
   ],
   "source": [
    "cypher.execute(\"MATCH (a:Person),(b:Master) WHERE a.Name = 'Ibtissam ESSADIK' AND b.Name = 'Data Science' CREATE (a)-[r:etudiante_a]->(b) RETURN r\")"
   ]
  },
  {
   "cell_type": "code",
   "execution_count": 40,
   "metadata": {
    "slideshow": {
     "slide_type": "fragment"
    }
   },
   "outputs": [
    {
     "data": {
      "text/plain": [
       "   | r                                                                                      \n",
       "---+-----------------------------------------------------------------------------------------\n",
       " 1 | (:Person {Name:\"Abdelkrim DAKOUAN\"})-[r117:etudiant_a]->(:Master {Name:\"Data Science\"})"
      ]
     },
     "execution_count": 40,
     "metadata": {},
     "output_type": "execute_result"
    }
   ],
   "source": [
    "cypher.execute(\"MATCH (a:Person),(b:Master) WHERE a.Name = 'Abdelkrim DAKOUAN' AND b.Name = 'Data Science' CREATE (a)-[r:etudiant_a]->(b) RETURN r\")"
   ]
  },
  {
   "cell_type": "markdown",
   "metadata": {
    "slideshow": {
     "slide_type": "slide"
    }
   },
   "source": [
    "![title](Images/n5.png)"
   ]
  },
  {
   "cell_type": "markdown",
   "metadata": {
    "slideshow": {
     "slide_type": "slide"
    }
   },
   "source": [
    "# Ajout d'index"
   ]
  },
  {
   "cell_type": "markdown",
   "metadata": {
    "slideshow": {
     "slide_type": "slide"
    }
   },
   "source": [
    "## Lorsque Neo4j crée un index, il crée une copie redondante des données de la base de données. Par conséquent, l’utilisation d’un index entraîne une utilisation plus importante de l’espace disque, ainsi que des écritures plus lentes sur le disque.\n",
    "\n",
    "## Par conséquent, vous devez peser ces facteurs lorsque vous choisissez les données / propriétés à indexer.\n"
   ]
  },
  {
   "cell_type": "markdown",
   "metadata": {
    "slideshow": {
     "slide_type": "slide"
    }
   },
   "source": [
    "## Généralement, il est judicieux de créer un index lorsque vous savez qu'il y aura beaucoup de données sur certains nœuds. De plus, si vous constatez que les requêtes prennent trop de temps, l'ajout d'un index peut aider.\n",
    "\n",
    "## Dans Neo4j, vous pouvez créer un index sur une propriété sur tout nœud ayant reçu une étiquette. Une fois que vous avez créé un index, Neo4j le gère et le tient à jour chaque fois que la base de données est modifiée."
   ]
  },
  {
   "cell_type": "markdown",
   "metadata": {
    "slideshow": {
     "slide_type": "slide"
    }
   },
   "source": [
    "## Création d'index"
   ]
  },
  {
   "cell_type": "code",
   "execution_count": 43,
   "metadata": {
    "slideshow": {
     "slide_type": "fragment"
    }
   },
   "outputs": [
    {
     "data": {
      "text/plain": []
     },
     "execution_count": 43,
     "metadata": {},
     "output_type": "execute_result"
    }
   ],
   "source": [
    "cypher.execute(\"CREATE INDEX ON :Person(Name)\")"
   ]
  },
  {
   "cell_type": "markdown",
   "metadata": {
    "slideshow": {
     "slide_type": "fragment"
    }
   },
   "source": [
    "![title](Images/n6.png)"
   ]
  },
  {
   "cell_type": "markdown",
   "metadata": {
    "slideshow": {
     "slide_type": "slide"
    }
   },
   "source": [
    "# L'utilisation de l'index crée"
   ]
  },
  {
   "cell_type": "code",
   "execution_count": 44,
   "metadata": {
    "slideshow": {
     "slide_type": "fragment"
    }
   },
   "outputs": [
    {
     "data": {
      "text/plain": [
       "   | a                                                                                             \n",
       "---+------------------------------------------------------------------------------------------------\n",
       " 1 | (n0:Person:Study {First_name:\"Ayoub\",Last_name:\"EL KATIBI\",Level:\"M2\",Name:\"Ayoub EL KATIBI\"})"
      ]
     },
     "execution_count": 44,
     "metadata": {},
     "output_type": "execute_result"
    }
   ],
   "source": [
    "cypher.execute(\"MATCH (a:Person {Name: 'Ayoub EL KATIBI'}) USING INDEX a:Person(Name) RETURN a\")"
   ]
  },
  {
   "cell_type": "markdown",
   "metadata": {
    "slideshow": {
     "slide_type": "slide"
    }
   },
   "source": [
    "# Ajout de contrainte"
   ]
  },
  {
   "cell_type": "markdown",
   "metadata": {
    "slideshow": {
     "slide_type": "slide"
    }
   },
   "source": [
    "## La contrainte d'unicité"
   ]
  },
  {
   "cell_type": "code",
   "execution_count": 54,
   "metadata": {
    "slideshow": {
     "slide_type": "fragment"
    }
   },
   "outputs": [
    {
     "data": {
      "text/plain": []
     },
     "execution_count": 54,
     "metadata": {},
     "output_type": "execute_result"
    }
   ],
   "source": [
    "cypher.execute(\"CREATE CONSTRAINT ON (a:Person) ASSERT a.Name IS UNIQUE\")"
   ]
  },
  {
   "cell_type": "code",
   "execution_count": 46,
   "metadata": {
    "slideshow": {
     "slide_type": "fragment"
    }
   },
   "outputs": [
    {
     "data": {
      "text/plain": []
     },
     "execution_count": 46,
     "metadata": {},
     "output_type": "execute_result"
    }
   ],
   "source": [
    "cypher.execute(\"DROP INDEX ON :Person(Name)\")"
   ]
  },
  {
   "cell_type": "markdown",
   "metadata": {
    "slideshow": {
     "slide_type": "slide"
    }
   },
   "source": [
    "## Test de la contrainte d'unicité"
   ]
  },
  {
   "cell_type": "markdown",
   "metadata": {
    "slideshow": {
     "slide_type": "fragment"
    }
   },
   "source": [
    "Tapez dans le navigateur de neo4j : CREATE (a:Person {Name: 'Ayoub EL KATIBI'}) RETURN a "
   ]
  },
  {
   "cell_type": "markdown",
   "metadata": {
    "slideshow": {
     "slide_type": "fragment"
    }
   },
   "source": [
    "![title](Images/n7.png)"
   ]
  },
  {
   "cell_type": "markdown",
   "metadata": {
    "slideshow": {
     "slide_type": "slide"
    }
   },
   "source": [
    "## La contrainte d'existence de propriété"
   ]
  },
  {
   "cell_type": "markdown",
   "metadata": {
    "slideshow": {
     "slide_type": "fragment"
    }
   },
   "source": [
    "Tapez dans le navigateur de neo4j : CREATE CONSTRAINT ON (a:Person) ASSERT exists(a.Name)"
   ]
  },
  {
   "cell_type": "markdown",
   "metadata": {
    "slideshow": {
     "slide_type": "fragment"
    }
   },
   "source": [
    "![title](Images/n8.png)"
   ]
  },
  {
   "cell_type": "markdown",
   "metadata": {
    "slideshow": {
     "slide_type": "slide"
    }
   },
   "source": [
    "# Importation du fichier CSV"
   ]
  },
  {
   "cell_type": "markdown",
   "metadata": {
    "slideshow": {
     "slide_type": "slide"
    }
   },
   "source": [
    "## Importation du fichier CSV sans HEADERS"
   ]
  },
  {
   "cell_type": "code",
   "execution_count": 48,
   "metadata": {
    "slideshow": {
     "slide_type": "fragment"
    }
   },
   "outputs": [
    {
     "data": {
      "text/plain": []
     },
     "execution_count": 48,
     "metadata": {},
     "output_type": "execute_result"
    }
   ],
   "source": [
    "cypher.execute(\"LOAD CSV FROM 'file:///genres.csv' AS line CREATE (:Genre { GenreId: line[0], Name: line[1]})\")"
   ]
  },
  {
   "cell_type": "code",
   "execution_count": 49,
   "metadata": {
    "slideshow": {
     "slide_type": "slide"
    }
   },
   "outputs": [
    {
     "data": {
      "text/plain": [
       "     | n                                                                                             \n",
       "-----+------------------------------------------------------------------------------------------------\n",
       "   1 | (n0:Person:Study {First_name:\"Ayoub\",Last_name:\"EL KATIBI\",Level:\"M2\",Name:\"Ayoub EL KATIBI\"})\n",
       "   2 | (n1:Genre {GenreId:\"75\",Name:\"Other\"})                                                        \n",
       "   3 | (n3:Genre {GenreId:\"85\",Name:\"Punk\"})                                                         \n",
       "   4 | (n12:Genre {GenreId:\"110\",Name:\"Techno-Industrial\"})                                          \n",
       "   5 | (n13:Genre {GenreId:\"111\",Name:\"Thrash Metal\"})                                               \n",
       "   6 | (n14:Genre {GenreId:\"112\",Name:\"Top 40\"})                                                     \n",
       "   7 | (n15:Genre {GenreId:\"113\",Name:\"Trance\"})                                                     \n",
       "   8 | (n16:Genre {GenreId:\"114\",Name:\"Tribal\"})                                                     \n",
       "   9 | (n17:Genre {GenreId:\"115\",Name:\"Vocal\"})                                                      \n",
       "  10 | (n20:Genre {GenreId:\"76\",Name:\"Polka\"})                                                       \n",
       "  11 | (n22:Genre {GenreId:\"77\",Name:\"Polsk Punk\"})                                                  \n",
       "  12 | (n25:Genre {GenreId:\"90\",Name:\"Reggae\"})                                                      \n",
       "  13 | (n26:Genre {GenreId:\"86\",Name:\"Punk Rock\"})                                                   \n",
       "  14 | (n27:Genre {GenreId:\"91\",Name:\"Retro\"})                                                       \n",
       "  15 | (n28:Genre {GenreId:\"87\",Name:\"R&B\"})                                                         \n",
       "  16 | (n29:Genre {GenreId:\"88\",Name:\"Rap\"})                                                         \n",
       "  17 | (n31:Genre {GenreId:\"67\",Name:\"Meditative\"})                                                  \n",
       "  18 | (n32:Genre {GenreId:\"68\",Name:\"Metal\"})                                                       \n",
       "  19 | (n33:Genre {GenreId:\"69\",Name:\"Musical\"})                                                     \n",
       "  20 | (n34:Genre {GenreId:\"70\",Name:\"New Age\"})                                                     \n",
       "  21 | (n35:Genre {GenreId:\"71\",Name:\"New Wave\"})                                                    \n",
       "  22 | (n36:Genre {GenreId:\"72\",Name:\"Noise\"})                                                       \n",
       "  23 | (n37:Genre {GenreId:\"78\",Name:\"Pop\"})                                                         \n",
       "  24 | (n38:Genre {GenreId:\"79\",Name:\"Pop-Folk\"})                                                    \n",
       "  25 | (n42:Genre {GenreId:\"92\",Name:\"Revival\"})                                                     \n",
       "  26 | (n43:Genre {GenreId:\"93\",Name:\"Rhythmic Soul\"})                                               \n",
       "  27 | (n44:Genre {GenreId:\"94\",Name:\"Rock\"})                                                        \n",
       "  28 | (n50:Genre {GenreId:\"108\",Name:\"Tango\"})                                                      \n",
       "  29 | (n51:Genre {GenreId:\"109\",Name:\"Techno\"})                                                     \n",
       "  30 | (n62:Genre {GenreId:\"95\",Name:\"Rock & Roll\"})                                                 \n",
       "  31 | (n63:Genre {GenreId:\"96\",Name:\"Salsa\"})                                                       \n",
       "  32 | (n64:Genre {GenreId:\"80\",Name:\"Pop/Funk\"})                                                    \n",
       "  33 | (n65:Genre {GenreId:\"97\",Name:\"Samba\"})                                                       \n",
       "  34 | (n66:Genre {GenreId:\"98\",Name:\"Satire\"})                                                      \n",
       "  35 | (n67:Genre {GenreId:\"99\",Name:\"Ska\"})                                                         \n",
       "  36 | (n68:Genre {GenreId:\"100\",Name:\"Sonata\"})                                                     \n",
       "  37 | (n73:Genre {GenreId:\"81\",Name:\"Power Ballad\"})                                                \n",
       "  38 | (n74:Genre {GenreId:\"82\",Name:\"Progressive Rock\"})                                            \n",
       "  39 | (n75:Genre {GenreId:\"83\",Name:\"Psychedelic\"})                                                 \n",
       "  40 | (n78:Genre {GenreId:\"84\",Name:\"Psychedelic Rock\"})                                            \n",
       "  41 | (n81:Genre {GenreId:\"89\",Name:\"Rave\"})                                                        \n",
       "  42 | (n87:Genre {GenreId:\"73\",Name:\"Oldies\"})                                                      \n",
       "  43 | (n88:Genre {GenreId:\"74\",Name:\"Opera\"})                                                       \n",
       "  44 | (n89:Genre {GenreId:\"101\",Name:\"Soul\"})                                                       \n",
       "  45 | (n90:Genre {GenreId:\"102\",Name:\"Soundtrack\"})                                                 \n",
       "  46 | (n91:Genre {GenreId:\"103\",Name:\"Southern Rock\"})                                              \n",
       "  47 | (n102:Genre {GenreId:\"104\",Name:\"Swing\"})                                                     \n",
       "  48 | (n103:Genre {GenreId:\"105\",Name:\"Symphonic Rock\"})                                            \n",
       "  49 | (n104:Genre {GenreId:\"106\",Name:\"Symphony\"})                                                  \n",
       "  50 | (n105:Genre {GenreId:\"107\",Name:\"Synthpop\"})                                                  \n",
       "  51 | (n112:Master {Name:\"Data Science\"})                                                           \n",
       "  52 | (n113:Licence {Name:\"SMI\"})                                                                   \n",
       "  53 | (n170:Person {Name:\"Ibtissam ESSADIK\"})                                                       \n",
       "  54 | (n171:Person {Name:\"Abdelkrim DAKOUAN\"})                                                      \n",
       "  55 | (n190:Genre {GenreId:\"1\",Name:\"A Cappella\"})                                                  \n",
       "  56 | (n191:Genre {GenreId:\"2\",Name:\"Acid\"})                                                        \n",
       "  57 | (n192:Genre {GenreId:\"3\",Name:\"Acoustic\"})                                                    \n",
       "  58 | (n193:Genre {GenreId:\"4\",Name:\"Alternative\"})                                                 \n",
       "  59 | (n194:Genre {GenreId:\"5\",Name:\"Ambient\"})                                                     \n",
       "  60 | (n195:Genre {GenreId:\"6\",Name:\"Avantgarde\"})                                                  \n",
       "  61 | (n196:Genre {GenreId:\"7\",Name:\"Bass\"})                                                        \n",
       "  62 | (n197:Genre {GenreId:\"8\",Name:\"Beat\"})                                                        \n",
       "  63 | (n198:Genre {GenreId:\"9\",Name:\"Bebob\"})                                                       \n",
       "  64 | (n199:Genre {GenreId:\"10\",Name:\"Big Band\"})                                                   \n",
       "  65 | (n200:Genre {GenreId:\"11\",Name:\"Black Metal\"})                                                \n",
       "  66 | (n201:Genre {GenreId:\"62\",Name:\"Jazz\"})                                                       \n",
       "  67 | (n202:Genre {GenreId:\"63\",Name:\"Jazz+Funk\"})                                                  \n",
       "  68 | (n203:Genre {GenreId:\"64\",Name:\"Jungle\"})                                                     \n",
       "  69 | (n204:Genre {GenreId:\"65\",Name:\"Latin\"})                                                      \n",
       "  70 | (n205:Genre {GenreId:\"66\",Name:\"Lo-Fi\"})                                                      \n",
       "  71 | (n206:Genre {GenreId:\"44\",Name:\"Fusion\"})                                                     \n",
       "  72 | (n207:Genre {GenreId:\"45\",Name:\"Game\"})                                                       \n",
       "  73 | (n208:Genre {GenreId:\"46\",Name:\"Gangsta Rap\"})                                                \n",
       "  74 | (n209:Genre {GenreId:\"47\",Name:\"Gospel\"})                                                     \n",
       "  75 | (n210:Genre {GenreId:\"48\",Name:\"Gothic\"})                                                     \n",
       "  76 | (n211:Genre {GenreId:\"12\",Name:\"Bluegrass\"})                                                  \n",
       "  77 | (n212:Genre {GenreId:\"13\",Name:\"Blues\"})                                                      \n",
       "  78 | (n213:Genre {GenreId:\"14\",Name:\"Booty Bass\"})                                                 \n",
       "  79 | (n214:Genre {GenreId:\"15\",Name:\"BritPop\"})                                                    \n",
       "  80 | (n215:Genre {GenreId:\"16\",Name:\"Cabaret\"})                                                    \n",
       "  81 | (n216:Genre {GenreId:\"17\",Name:\"Celtic\"})                                                     \n",
       "  82 | (n217:Genre {GenreId:\"18\",Name:\"Chamber Music\"})                                              \n",
       "  83 | (n218:Genre {GenreId:\"19\",Name:\"Christian Rap\"})                                              \n",
       "  84 | (n219:Genre {GenreId:\"20\",Name:\"Christian Rock\"})                                             \n",
       "  85 | (n220:Genre {GenreId:\"21\",Name:\"Classic Rock\"})                                               \n",
       "  86 | (n221:Genre {GenreId:\"22\",Name:\"Classical\"})                                                  \n",
       "  87 | (n222:Genre {GenreId:\"23\",Name:\"Club\"})                                                       \n",
       "  88 | (n223:Genre {GenreId:\"24\",Name:\"Club-House\"})                                                 \n",
       "  89 | (n224:Genre {GenreId:\"25\",Name:\"Comedy\"})                                                     \n",
       "  90 | (n225:Genre {GenreId:\"26\",Name:\"Contemporary Christian\"})                                     \n",
       "  91 | (n226:Genre {GenreId:\"27\",Name:\"Country\"})                                                    \n",
       "  92 | (n227:Genre {GenreId:\"28\",Name:\"Cult\"})                                                       \n",
       "  93 | (n228:Genre {GenreId:\"29\",Name:\"Dance\"})                                                      \n",
       "  94 | (n229:Genre {GenreId:\"30\",Name:\"Death Metal\"})                                                \n",
       "  95 | (n230:Genre {GenreId:\"31\",Name:\"Disco\"})                                                      \n",
       "  96 | (n231:Genre {GenreId:\"32\",Name:\"Dream\"})                                                      \n",
       "  97 | (n232:Genre {GenreId:\"33\",Name:\"Drum & Bass\"})                                                \n",
       "  98 | (n233:Genre {GenreId:\"34\",Name:\"Drum Solo\"})                                                  \n",
       "  99 | (n234:Genre {GenreId:\"35\",Name:\"Duet\"})                                                       \n",
       " 100 | (n235:Genre {GenreId:\"36\",Name:\"Easy Listening\"})                                             \n",
       " 101 | (n236:Genre {GenreId:\"37\",Name:\"Electronic\"})                                                 \n",
       " 102 | (n237:Genre {GenreId:\"38\",Name:\"Ethnic\"})                                                     \n",
       " 103 | (n238:Genre {GenreId:\"39\",Name:\"Folk\"})                                                       \n",
       " 104 | (n239:Genre {GenreId:\"40\",Name:\"Folk/Rock\"})                                                  \n",
       " 105 | (n240:Genre {GenreId:\"41\",Name:\"Folklore\"})                                                   \n",
       " 106 | (n241:Genre {GenreId:\"42\",Name:\"Freestyle\"})                                                  \n",
       " 107 | (n242:Genre {GenreId:\"43\",Name:\"Funk\"})                                                       \n",
       " 108 | (n243:Genre {GenreId:\"49\",Name:\"Gothic Rock\"})                                                \n",
       " 109 | (n244:Genre {GenreId:\"50\",Name:\"Grunge\"})                                                     \n",
       " 110 | (n245:Genre {GenreId:\"51\",Name:\"Hard Rock\"})                                                  \n",
       " 111 | (n246:Genre {GenreId:\"52\",Name:\"Hardcore\"})                                                   \n",
       " 112 | (n247:Genre {GenreId:\"53\",Name:\"Heavy Metal\"})                                                \n",
       " 113 | (n248:Genre {GenreId:\"54\",Name:\"Hip-Hop\"})                                                    \n",
       " 114 | (n249:Genre {GenreId:\"55\",Name:\"House\"})                                                      \n",
       " 115 | (n250:Genre {GenreId:\"56\",Name:\"Humour\"})                                                     \n",
       " 116 | (n251:Genre {GenreId:\"57\",Name:\"Indie\"})                                                      \n",
       " 117 | (n252:Genre {GenreId:\"58\",Name:\"Industrial\"})                                                 \n",
       " 118 | (n253:Genre {GenreId:\"59\",Name:\"Instrumental\"})                                               \n",
       " 119 | (n254:Genre {GenreId:\"60\",Name:\"Instrumental Pop\"})                                           \n",
       " 120 | (n255:Genre {GenreId:\"61\",Name:\"Instrumental Rock\"})                                          "
      ]
     },
     "execution_count": 49,
     "metadata": {},
     "output_type": "execute_result"
    }
   ],
   "source": [
    "graph.cypher.execute(\"MATCH (n) RETURN n\")"
   ]
  },
  {
   "cell_type": "markdown",
   "metadata": {
    "slideshow": {
     "slide_type": "slide"
    }
   },
   "source": [
    "## Importation du fichier CSV avec HEADERS"
   ]
  },
  {
   "cell_type": "code",
   "execution_count": 50,
   "metadata": {
    "slideshow": {
     "slide_type": "fragment"
    }
   },
   "outputs": [
    {
     "data": {
      "text/plain": []
     },
     "execution_count": 50,
     "metadata": {},
     "output_type": "execute_result"
    }
   ],
   "source": [
    "cypher.execute(\"LOAD CSV WITH HEADERS FROM 'file:///tracks.csv' AS line FIELDTERMINATOR ',' CREATE (:Track { TrackId: line.Id, Name: line.Track, Length: line.Length})\")"
   ]
  },
  {
   "cell_type": "code",
   "execution_count": 51,
   "metadata": {
    "slideshow": {
     "slide_type": "fragment"
    }
   },
   "outputs": [
    {
     "data": {
      "text/plain": [
       "    | n                                                                                             \n",
       "----+------------------------------------------------------------------------------------------------\n",
       "  1 | (n24:Track {Length:\"03:27:00\",Name:\"Sun And Steel\",TrackId:\"23\"})                             \n",
       "  2 | (n48:Track {Length:\"07:26:00\",Name:\"To Tame A Land\",TrackId:\"24\"})                            \n",
       "  3 | (n49:Track {Length:\"07:26:00\",Name:\"Caught Somewhere In Time\",TrackId:\"25\"})                  \n",
       "  4 | (n52:Track {Length:\"05:08:00\",Name:\"Wasted Years\",TrackId:\"26\"})                              \n",
       "  5 | (n53:Track {Length:\"05:42:00\",Name:\"Sea Of Madness\",TrackId:\"27\"})                            \n",
       "  6 | (n54:Track {Length:\"07:21:00\",Name:\"Heaven Can Wait\",TrackId:\"28\"})                           \n",
       "  7 | (n55:Track {Length:\"06:31:00\",Name:\"The Loneliness Of The Long Distance Runner\",TrackId:\"29\"})\n",
       "  8 | (n56:Track {Length:\"05:44:00\",Name:\"Stranger In A Strange Land\",TrackId:\"30\"})                \n",
       "  9 | (n57:Track {Length:\"04:56:00\",Name:\"Deja Vu\",TrackId:\"31\"})                                   \n",
       " 10 | (n58:Track {Length:\"08:36:00\",Name:\"Alexander The Great\",TrackId:\"32\"})                       \n",
       " 11 | (n84:Track {Length:\"04:12:00\",Name:\"The Trooper\",TrackId:\"20\"})                               \n",
       " 12 | (n85:Track {Length:\"04:56:00\",Name:\"Still Life\",TrackId:\"21\"})                                \n",
       " 13 | (n86:Track {Length:\"03:42:00\",Name:\"Quest For Fire\",TrackId:\"22\"})                            \n",
       " 14 | (n135:Track {Length:\"03:52:00\",Name:\"Innocent Exile\",TrackId:\"1\"})                            \n",
       " 15 | (n136:Track {Length:\"05:01:00\",Name:\"Killers\",TrackId:\"2\"})                                   \n",
       " 16 | (n137:Track {Length:\"06:12:00\",Name:\"Prodigal Son\",TrackId:\"3\"})                              \n",
       " 17 | (n138:Track {Length:\"03:20:00\",Name:\"Purgatory\",TrackId:\"4\"})                                 \n",
       " 18 | (n139:Track {Length:\"04:49:00\",Name:\"Drifter\",TrackId:\"5\"})                                   \n",
       " 19 | (n140:Track {Length:\"04:15:00\",Name:\"Tailgunner\",TrackId:\"6\"})                                \n",
       " 20 | (n141:Track {Length:\"03:49:00\",Name:\"Holy Smoke\",TrackId:\"7\"})                                \n",
       " 21 | (n142:Track {Length:\"04:23:00\",Name:\"No Prayer For The Dying\",TrackId:\"8\"})                   \n",
       " 22 | (n143:Track {Length:\"04:14:00\",Name:\"Public Enema Number One\",TrackId:\"9\"})                   \n",
       " 23 | (n144:Track {Length:\"04:10:00\",Name:\"Fates Warning\",TrackId:\"10\"})                            \n",
       " 24 | (n145:Track {Length:\"04:18:00\",Name:\"The Assassin\",TrackId:\"11\"})                             \n",
       " 25 | (n146:Track {Length:\"04:35:00\",Name:\"Run Silent Run Deep\",TrackId:\"12\"})                      \n",
       " 26 | (n147:Track {Length:\"04:07:00\",Name:\"Hooks In You\",TrackId:\"13\"})                             \n",
       " 27 | (n148:Track {Length:\"04:44:00\",Name:\"Bring Your Daughter To The Slaughter\",TrackId:\"14\"})     \n",
       " 28 | (n149:Track {Length:\"05:32:00\",Name:\"Mother Russia\",TrackId:\"15\"})                            \n",
       " 29 | (n150:Track {Length:\"06:13:00\",Name:\"Where Eagles Dare\",TrackId:\"16\"})                        \n",
       " 30 | (n151:Track {Length:\"06:49:00\",Name:\"Revelations\",TrackId:\"17\"})                              \n",
       " 31 | (n152:Track {Length:\"03:50:00\",Name:\"Flight Of Icarus\",TrackId:\"18\"})                         \n",
       " 32 | (n153:Track {Length:\"05:26:00\",Name:\"Die With Your Boots On\",TrackId:\"19\"})                   "
      ]
     },
     "execution_count": 51,
     "metadata": {},
     "output_type": "execute_result"
    }
   ],
   "source": [
    "cypher.execute(\"MATCH (n:Track) RETURN n\")"
   ]
  },
  {
   "cell_type": "markdown",
   "metadata": {
    "slideshow": {
     "slide_type": "slide"
    }
   },
   "source": [
    "## Importation d'un fichier CSV volumineux"
   ]
  },
  {
   "cell_type": "markdown",
   "metadata": {
    "slideshow": {
     "slide_type": "fragment"
    }
   },
   "source": [
    "On ajoute au début de notre requête Cypher : USING PERIODIC COMMIT"
   ]
  },
  {
   "cell_type": "markdown",
   "metadata": {
    "slideshow": {
     "slide_type": "fragment"
    }
   },
   "source": [
    "Elle permet de faire un commit après chaque 1000 lignes."
   ]
  },
  {
   "cell_type": "markdown",
   "metadata": {
    "slideshow": {
     "slide_type": "fragment"
    }
   },
   "source": [
    "Vous pouvez spécifier le nombre de lignes de cette manière : USING PERIODIC COMMIT 200"
   ]
  },
  {
   "cell_type": "markdown",
   "metadata": {
    "slideshow": {
     "slide_type": "slide"
    }
   },
   "source": [
    "## Suppression des contraintes"
   ]
  },
  {
   "cell_type": "code",
   "execution_count": 55,
   "metadata": {
    "slideshow": {
     "slide_type": "fragment"
    }
   },
   "outputs": [
    {
     "data": {
      "text/plain": []
     },
     "execution_count": 55,
     "metadata": {},
     "output_type": "execute_result"
    }
   ],
   "source": [
    "cypher.execute(\"DROP CONSTRAINT ON (a:Person) ASSERT a.Name IS UNIQUE\")"
   ]
  }
 ],
 "metadata": {
  "celltoolbar": "Slideshow",
  "kernelspec": {
   "display_name": "Python 3",
   "language": "python",
   "name": "python3"
  },
  "language_info": {
   "codemirror_mode": {
    "name": "ipython",
    "version": 3
   },
   "file_extension": ".py",
   "mimetype": "text/x-python",
   "name": "python",
   "nbconvert_exporter": "python",
   "pygments_lexer": "ipython3",
   "version": "3.6.5"
  }
 },
 "nbformat": 4,
 "nbformat_minor": 2
}
